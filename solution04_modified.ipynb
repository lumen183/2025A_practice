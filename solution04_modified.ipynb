{
 "cells": [
  {
   "cell_type": "code",
   "execution_count": 2,
   "id": "563f8a8f",
   "metadata": {},
   "outputs": [],
   "source": [
    "import random\n",
    "import numpy as np\n",
    "from tqdm import tqdm\n",
    "import matplotlib.pyplot as plt\n",
    "plt.rcParams[\"font.family\"] = [\"SimSun\"]\n",
    "plt.rcParams['axes.unicode_minus'] = False"
   ]
  },
  {
   "cell_type": "code",
   "execution_count": 3,
   "id": "01f52ed9",
   "metadata": {},
   "outputs": [],
   "source": [
    "def calc_cover_intervals_multi(\n",
    "    f_speeds, f_dirs, t_releases, t_bursts,\n",
    "    f_positions=None,\n",
    "    smoke_v0=-3, g=9.80665,\n",
    "    missile_v=300,\n",
    "    if_debug=False,\n",
    "    missile_start=np.array([20000, 0, 2000], dtype=np.float32),\n",
    "    missile_target=np.array([0, 0, 0], dtype=np.float32),\n",
    "    smoke_radius=10,\n",
    "    time_window=(0, 40),  # seconds\n",
    "    time_steps=40001\n",
    "):\n",
    "    \"\"\"\n",
    "    计算三个无人机的烟幕弹对导弹-真目标路径的总有效遮蔽时间（全局时间）。\n",
    "    只要任意一个烟幕在某时刻遮蔽路径，即算有效遮蔽。\n",
    "\n",
    "    参数:\n",
    "        f_speeds: [v1, v2, v3] 无人机速度(m/s)\n",
    "        f_dirs: [dir1, dir2, dir3] 运动方向（弧度，xy平面，z=0）\n",
    "        t_releases: [t1, t2, t3] 投放时间(s)\n",
    "        t_bursts: [tb1, tb2, tb3] 投放后多久起爆(s)\n",
    "        f_positions: [p1, p2, p3] 初始位置(3x3数组)，默认见下\n",
    "        其它参数同单机版本\n",
    "    返回:\n",
    "        总有效遮蔽时间（秒）\n",
    "    \"\"\"\n",
    "    # 默认无人机初始位置\n",
    "    if f_positions is None:\n",
    "        f_positions = [\n",
    "            np.array([17800, 0, 1800], dtype=np.float32),\n",
    "            np.array([12000, 1400, 1400], dtype=np.float32),\n",
    "            np.array([6000, -3000, 700], dtype=np.float32)\n",
    "        ]\n",
    "    # 计算导弹方向\n",
    "    missile_dir = (missile_target - missile_start) / np.linalg.norm(missile_target - missile_start)\n",
    "    # 时间轴\n",
    "    t_list = np.linspace(time_window[0], time_window[1], time_steps, dtype=np.float32)\n",
    "    # 导弹位置（从初始点出发，不考虑释放时间）\n",
    "    missile_positions = missile_start[:, np.newaxis] + missile_v * t_list * missile_dir[:, np.newaxis]\n",
    "    missile_pos = missile_positions.T  # (N,3)\n",
    "    target = np.array([0,200,5], dtype=np.float32)\n",
    "\n",
    "    # 烟幕球心轨迹（3个无人机）\n",
    "    smoke_positions_all = []\n",
    "    for i in range(len(f_positions)):\n",
    "        # 无人机运动方向向量\n",
    "        f_dir_vec = np.array([np.cos(f_dirs[i]), np.sin(f_dirs[i]), 0], dtype=np.float32)\n",
    "        # 干扰弹在投放点 + 后续水平位移\n",
    "        f_release = f_positions[i] + f_speeds[i] * (t_releases[i] + t_bursts[i]) * f_dir_vec\n",
    "        # 起爆点\n",
    "        smoke_burst = np.array([\n",
    "            f_release[0],\n",
    "            f_release[1],\n",
    "            f_release[2] + (-0.5) * g * t_bursts[i]**2\n",
    "        ], dtype=np.float32)\n",
    "        # 烟幕球心轨迹\n",
    "        smoke_z = smoke_burst[2] + smoke_v0 * t_list\n",
    "        smoke_positions = np.stack([\n",
    "            np.full_like(t_list, smoke_burst[0]),\n",
    "            np.full_like(t_list, smoke_burst[1]),\n",
    "            np.where(t_list >= t_bursts[i], smoke_z, 1e8)  # 起爆前位置无效\n",
    "        ], axis=0)\n",
    "        smoke_positions_all.append(smoke_positions.T)  # (N,3)\n",
    "\n",
    "    # 遮蔽判定（只要任意一个烟幕有效即可）\n",
    "    in_smoke_total = np.zeros_like(t_list, dtype=bool)\n",
    "    ab = target - missile_pos         # (N,3)\n",
    "    ab_norm2 = np.sum(ab**2, axis=1)  # (N,)\n",
    "    for smoke_pos in smoke_positions_all:\n",
    "        ap = smoke_pos - missile_pos      # (N,3)\n",
    "        s = np.sum(ap * ab, axis=1) / ab_norm2\n",
    "        closest = missile_pos + ab * s[:, None]  # (N,3)\n",
    "        dist = np.linalg.norm(smoke_pos - closest, axis=1)  # (N,)\n",
    "        in_smoke = dist <= smoke_radius\n",
    "        if if_debug:\n",
    "            dt = t_list[1] - t_list[0]\n",
    "            if np.any(in_smoke == 1):\n",
    "                print(f\"Smoke in missile:{np.where(in_smoke == True)[0][0] * dt:.2f}， last:{np.where(in_smoke == True)[0][-1] * dt:.2f}\")\n",
    "            else:\n",
    "                print(f\"Smoke never in missile\")\n",
    "\n",
    "        in_smoke_total = in_smoke_total | in_smoke  # 只要任意一个烟幕有效\n",
    "\n",
    "    # 计算总有效遮蔽时间\n",
    "    dt = t_list[1] - t_list[0]\n",
    "    total_cover_time = np.sum(in_smoke_total) * dt\n",
    "    return total_cover_time"
   ]
  },
  {
   "cell_type": "code",
   "execution_count": 4,
   "id": "3bb86259",
   "metadata": {},
   "outputs": [
    {
     "data": {
      "text/plain": [
       "<sko.PSO.PSO at 0x1ecffa09050>"
      ]
     },
     "execution_count": 4,
     "metadata": {},
     "output_type": "execute_result"
    }
   ],
   "source": [
    "from sko.PSO import PSO\n",
    "\n",
    "# PSO优化目标函数（与GA类似，返回负值以最大化遮蔽时间）\n",
    "def pso_objective(x):\n",
    "    # x: [v1, v2, v3, dir1, dir2, dir3, t1, t2, t3, tb1, tb2, tb3]\n",
    "    f_speeds = x[0:3]\n",
    "    f_dirs = x[3:6]\n",
    "    t_releases = x[6:9]\n",
    "    t_bursts = x[9:12]\n",
    "    return -calc_cover_intervals_multi(\n",
    "        f_speeds=f_speeds,\n",
    "        f_dirs=f_dirs,\n",
    "        t_releases=t_releases,\n",
    "        t_bursts=t_bursts\n",
    "    )\n",
    "\n",
    "# 参数范围\n",
    "lb = [130, 70, 70,   0, 0, 0,   0, 0, 30,   0, 0, 0]\n",
    "ub = [140, 140, 140,   2*np.pi, 2*np.pi, 2*np.pi,   1, 30, 50,   1, 10, 10]\n",
    "\n",
    "# PSO实例化\n",
    "pso = PSO(\n",
    "    func=pso_objective,\n",
    "    dim=12,\n",
    "    pop=70,\n",
    "    max_iter=160,\n",
    "    lb=lb,\n",
    "    ub=ub,\n",
    "    w=0.8,\n",
    "    c1=2,\n",
    "    c2=2,\n",
    "\n",
    ")\n",
    "\n",
    "pso.run()\n"
   ]
  },
  {
   "cell_type": "code",
   "execution_count": 5,
   "id": "3c1d529a",
   "metadata": {},
   "outputs": [
    {
     "name": "stdout",
     "output_type": "stream",
     "text": [
      "第一架无人机的参数: [1.40000000e+02 1.18579320e-01 7.05350441e-01 0.00000000e+00]\n",
      "第二架无人机参数:[140.           4.38276258   0.75659631   0.        ]\n",
      "第三架无人机参数:[70.          1.35286875 45.7024054   0.        ]\n",
      "最大遮蔽时间: 10.946000519907102\n",
      "Smoke in missile:0.86， last:5.68\n",
      "Smoke never in missile\n",
      "Smoke in missile:6.02， last:12.15\n"
     ]
    },
    {
     "data": {
      "text/plain": [
       "10.946000519907102"
      ]
     },
     "execution_count": 5,
     "metadata": {},
     "output_type": "execute_result"
    },
    {
     "data": {
      "image/png": "[encoded data removed]",
      "text/plain": [
       "<Figure size 640x480 with 1 Axes>"
      ]
     },
     "metadata": {},
     "output_type": "display_data"
    }
   ],
   "source": [
    "best_x, best_y = pso.gbest_x, pso.gbest_y\n",
    "plt.plot(pso.gbest_y_hist)\n",
    "\n",
    "print(f\"第一架无人机的参数: {best_x[0:12:3]}\\n第二架无人机参数:{best_x[1:12:3]}\\n第三架无人机参数:{best_x[2:12:3]}\")\n",
    "print(f\"最大遮蔽时间: {-best_y}\")\n",
    "calc_cover_intervals_multi(\n",
    "    f_speeds=best_x[0:3],\n",
    "    f_dirs=best_x[3:6],\n",
    "    t_releases=best_x[6:9],\n",
    "    t_bursts=best_x[9:12],\n",
    "    if_debug=True\n",
    ")"
   ]
  },
  {
   "cell_type": "code",
   "execution_count": null,
   "id": "d79aba48",
   "metadata": {},
   "outputs": [],
   "source": []
  },
  {
   "cell_type": "code",
   "execution_count": null,
   "id": "ef762b5c",
   "metadata": {},
   "outputs": [],
   "source": []
  }
 ],
 "metadata": {
  "kernelspec": {
   "display_name": "base",
   "language": "python",
   "name": "python3"
  },
  "language_info": {
   "codemirror_mode": {
    "name": "ipython",
    "version": 3
   },
   "file_extension": ".py",
   "mimetype": "text/x-python",
   "name": "python",
   "nbconvert_exporter": "python",
   "pygments_lexer": "ipython3",
   "version": "3.11.7"
  }
 },
 "nbformat": 4,
 "nbformat_minor": 5
}
