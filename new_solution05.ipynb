{
 "cells": [
  {
   "cell_type": "code",
   "execution_count": 1,
   "id": "4bc0c8ae",
   "metadata": {},
   "outputs": [],
   "source": [
    "import math\n",
    "import matplotlib.pyplot as plt\n",
    "plt.rcParams[\"font.family\"] = [\"SimSun\"]\n",
    "plt.rcParams['axes.unicode_minus'] = False\n",
    "import numpy as np\n",
    "\n",
    "missile_starts = [\n",
    "    np.array([20000, 0, 2000]),\n",
    "    np.array([19000, 600, 2100]),\n",
    "    np.array([18000, -600, 1900])\n",
    "]\n",
    "\n",
    "drone_pos = {\n",
    "    0: np.array([17800,0,1800]),\n",
    "    1: np.array([12000,1400,1400]),\n",
    "    2: np.array([6000,-3000,700]),\n",
    "    3: np.array([11000,2000,1800]),\n",
    "    4: np.array([13000,-2000,1300])\n",
    "}"
   ]
  },
  {
   "cell_type": "code",
   "execution_count": null,
   "id": "6742aadb",
   "metadata": {},
   "outputs": [
    {
     "data": {
      "application/vnd.jupyter.widget-view+json": {
       "model_id": "57f6e303cb6a4993931763faf6e0c61e",
       "version_major": 2,
       "version_minor": 0
      },
      "text/plain": [
       "无人机1退火优化进度:   0%|          | 0/6000 [00:00<?, ?it/s]"
      ]
     },
     "metadata": {},
     "output_type": "display_data"
    },
    {
     "name": "stdout",
     "output_type": "stream",
     "text": [
      "无人机1最优参数: [139.99656527   3.13899936   2.07213241   4.83095872   6.19326852\n",
      "   4.84463745   5.79207848   6.16484225]\n",
      "每个烟雾球的遮挡时间及区间：\n",
      "第1个烟雾球遮挡时间: 3.70s下面是各区间：    区间: 6.92s ~ 10.62s\n",
      "第2个烟雾球遮挡时间: 1.73s下面是各区间：    区间: 10.62s ~ 12.35s\n",
      "第3个烟雾球遮挡时间: 0.81s下面是各区间：    区间: 12.36s ~ 13.16s\n",
      "\n",
      "总遮挡区间：\n",
      "    6.92s ~ 10.62s\n",
      "    10.62s ~ 12.35s\n",
      "    12.36s ~ 13.16s\n",
      "总遮挡时间: 6.24s\n"
     ]
    },
    {
     "data": {
      "application/vnd.jupyter.widget-view+json": {
       "model_id": "b9aa4e08751e4943b71fb88115c834a2",
       "version_major": 2,
       "version_minor": 0
      },
      "text/plain": [
       "无人机2退火优化进度:   0%|          | 0/6000 [00:00<?, ?it/s]"
      ]
     },
     "metadata": {},
     "output_type": "display_data"
    },
    {
     "name": "stdout",
     "output_type": "stream",
     "text": [
      "无人机2最优参数: [129.64012875   4.55977233   4.182089    24.04985378  44.52492513\n",
      "   6.40607977   4.87409011  16.55807789]\n",
      "每个烟雾球的遮挡时间及区间：\n",
      "第1个烟雾球遮挡时间: 4.68s下面是各区间：    区间: 14.28s ~ 18.96s\n",
      "第2个烟雾球遮挡时间: 0.00s下面是各区间：第3个烟雾球遮挡时间: 0.00s下面是各区间：\n",
      "总遮挡区间：\n",
      "    14.28s ~ 18.96s\n",
      "总遮挡时间: 4.68s\n"
     ]
    },
    {
     "data": {
      "application/vnd.jupyter.widget-view+json": {
       "model_id": "029cd09f607f49de88b151f5d98df82e",
       "version_major": 2,
       "version_minor": 0
      },
      "text/plain": [
       "无人机3退火优化进度:   0%|          | 0/6000 [00:00<?, ?it/s]"
      ]
     },
     "metadata": {},
     "output_type": "display_data"
    },
    {
     "name": "stdout",
     "output_type": "stream",
     "text": [
      "无人机3最优参数: [136.10423986   1.85487349   8.20822146  17.79368766  35.07498839\n",
      "   8.93171863   6.05155103   3.72884019]\n",
      "每个烟雾球的遮挡时间及区间：\n",
      "第1个烟雾球遮挡时间: 0.00s下面是各区间：第2个烟雾球遮挡时间: 5.54s下面是各区间：    区间: 23.86s ~ 29.40s\n",
      "第3个烟雾球遮挡时间: 0.00s下面是各区间：\n",
      "总遮挡区间：\n",
      "    23.86s ~ 29.40s\n",
      "总遮挡时间: 5.54s\n"
     ]
    },
    {
     "data": {
      "application/vnd.jupyter.widget-view+json": {
       "model_id": "4549deb246274d32ab56d8cc39cbca12",
       "version_major": 2,
       "version_minor": 0
      },
      "text/plain": [
       "无人机4退火优化进度:   0%|          | 0/6000 [00:00<?, ?it/s]"
      ]
     },
     "metadata": {},
     "output_type": "display_data"
    },
    {
     "name": "stdout",
     "output_type": "stream",
     "text": [
      "无人机4最优参数: [111.81651118   4.3610336    1.69195048   6.1067628   32.60299085\n",
      "  11.40139012  12.47033729  18.23988351]\n",
      "每个烟雾球的遮挡时间及区间：\n",
      "第1个烟雾球遮挡时间: 0.00s下面是各区间：第2个烟雾球遮挡时间: 4.57s下面是各区间：    区间: 18.81s ~ 23.38s\n",
      "第3个烟雾球遮挡时间: 0.00s下面是各区间：\n",
      "总遮挡区间：\n",
      "    18.81s ~ 23.38s\n",
      "总遮挡时间: 4.57s\n"
     ]
    },
    {
     "data": {
      "application/vnd.jupyter.widget-view+json": {
       "model_id": "b0c9102b878e4962b318b4b759a7d305",
       "version_major": 2,
       "version_minor": 0
      },
      "text/plain": [
       "无人机5退火优化进度:   0%|          | 0/6000 [00:00<?, ?it/s]"
      ]
     },
     "metadata": {},
     "output_type": "display_data"
    },
    {
     "name": "stdout",
     "output_type": "stream",
     "text": [
      "无人机5最优参数: [120.61864159   2.1767804    8.89409822  15.22072115  46.68895047\n",
      "  14.7778023    5.20895291   8.55883093]\n",
      "每个烟雾球的遮挡时间及区间：\n",
      "第1个烟雾球遮挡时间: 0.00s下面是各区间：第2个烟雾球遮挡时间: 4.10s下面是各区间：    区间: 20.44s ~ 24.54s\n",
      "第3个烟雾球遮挡时间: 0.00s下面是各区间：\n",
      "总遮挡区间：\n",
      "    20.44s ~ 24.54s\n",
      "总遮挡时间: 4.10s\n"
     ]
    }
   ],
   "source": [
    "from calc_cover_time import *\n",
    "from scipy.optimize import dual_annealing\n",
    "from tqdm.notebook import tqdm\n",
    "\n",
    "# 假设 drone_pos 是你的无人机位置字典，M1 是导弹初始点\n",
    "missile_trajs = [get_missile_traj(missile_starts[i], fake_target, v_M1, t_list) for i in range(3)]\n",
    "\n",
    "\n",
    "for idx in range(5):\n",
    "    f_pos = drone_pos[idx]\n",
    "    cover_time_hist = []\n",
    "\n",
    "    def sa_objective(x):\n",
    "        try:\n",
    "            speed = x[0]\n",
    "            direction_angle = x[1]\n",
    "            throw_times = x[2:5]\n",
    "            burst_delays = x[5:8]\n",
    "            smoke_centers = get_smoke_center_multi(f_pos, direction_angle, speed, throw_times, burst_delays, t_list)\n",
    "            cover_time = get_missile_cover_time_multi(smoke_centers, missile_trajs[0], true_target, smoke_R, t_list)\n",
    "            cover_time_hist.append(cover_time)\n",
    "            return -cover_time\n",
    "        except Exception:\n",
    "            return 1e6\n",
    "\n",
    "    bounds = [\n",
    "        (70, 140),           # speed\n",
    "        ((0, 2*np.pi)),        # angle\n",
    "        (0, 20), (1, 30), (2, 50),   # throw_times\n",
    "        (0, 20), (1, 20), (2, 20),   # burst_delays\n",
    "    ]\n",
    "    max_iter = 6000\n",
    "    pbar = tqdm(total=max_iter, desc=f\"无人机{idx+1}退火优化进度\")\n",
    "\n",
    "    def progress_callback(x, f, context):\n",
    "        pbar.update(1)\n",
    "\n",
    "    result = dual_annealing(sa_objective,\n",
    "                            bounds, \n",
    "                            maxiter=max_iter, \n",
    "                            seed=42,\n",
    "                            callback=progress_callback,\n",
    "                            initial_temp=20000,\n",
    "                           )\n",
    "    print(f\"无人机{idx+1}最优参数:\", result.x)\n",
    "    smoke_centers = get_smoke_center_multi(f_pos, result.x[1], result.x[0], result.x[2:5], result.x[5:8], t_list)\n",
    "    cover_time = get_missile_cover_time_multi(smoke_centers, missile_trajs[0], true_target, smoke_R, t_list, debug=True)\n",
    "    pbar.close()"
   ]
  },
  {
   "cell_type": "code",
   "execution_count": null,
   "id": "bc6c5423",
   "metadata": {},
   "outputs": [
    {
     "data": {
      "application/vnd.jupyter.widget-view+json": {
       "model_id": "a17e7010a4e0435ca5506244673d8b4f",
       "version_major": 2,
       "version_minor": 0
      },
      "text/plain": [
       "无人机1退火优化进度:   0%|          | 0/6000 [00:00<?, ?it/s]"
      ]
     },
     "metadata": {},
     "output_type": "display_data"
    },
    {
     "name": "stdout",
     "output_type": "stream",
     "text": [
      "无人机1最优参数: [99.986197    2.021499   16.35107039 18.80047616 22.87107773 16.50207341\n",
      "  1.48577163 17.3595593 ]\n",
      "每个烟雾球的遮挡时间及区间：\n",
      "第1个烟雾球遮挡时间: 0.00s下面是各区间：第2个烟雾球遮挡时间: 0.00s下面是各区间：第3个烟雾球遮挡时间: 0.00s下面是各区间：\n",
      "总遮挡区间：\n",
      "总遮挡时间: 0.00s\n"
     ]
    },
    {
     "data": {
      "application/vnd.jupyter.widget-view+json": {
       "model_id": "d6df85bcbaef4ba6b52e375f024e161a",
       "version_major": 2,
       "version_minor": 0
      },
      "text/plain": [
       "无人机2退火优化进度:   0%|          | 0/6000 [00:00<?, ?it/s]"
      ]
     },
     "metadata": {},
     "output_type": "display_data"
    },
    {
     "name": "stdout",
     "output_type": "stream",
     "text": [
      "无人机2最优参数: [107.97070753   4.66575043   5.24645531   6.63062286  26.1953878\n",
      "   3.81279653   2.76225579  15.05254636]\n",
      "每个烟雾球的遮挡时间及区间：\n",
      "第1个烟雾球遮挡时间: 4.79s下面是各区间：    区间: 9.06s ~ 13.84s\n",
      "第2个烟雾球遮挡时间: 3.30s下面是各区间：    区间: 20.35s ~ 23.64s\n",
      "第3个烟雾球遮挡时间: 0.00s下面是各区间：\n",
      "总遮挡区间：\n",
      "    9.06s ~ 13.84s\n",
      "    20.35s ~ 23.64s\n",
      "总遮挡时间: 8.09s\n"
     ]
    },
    {
     "data": {
      "application/vnd.jupyter.widget-view+json": {
       "model_id": "bf25fa79b57949209d1b78337f8a1e53",
       "version_major": 2,
       "version_minor": 0
      },
      "text/plain": [
       "无人机3退火优化进度:   0%|          | 0/6000 [00:00<?, ?it/s]"
      ]
     },
     "metadata": {},
     "output_type": "display_data"
    },
    {
     "name": "stdout",
     "output_type": "stream",
     "text": [
      "无人机3最优参数: [114.30417314   1.76524646  10.01240143  24.58533915  45.58454033\n",
      "   5.95730895   4.46325624   3.16988935]\n",
      "每个烟雾球的遮挡时间及区间：\n",
      "第1个烟雾球遮挡时间: 0.00s下面是各区间：第2个烟雾球遮挡时间: 4.41s下面是各区间：    区间: 29.27s ~ 33.68s\n",
      "第3个烟雾球遮挡时间: 0.00s下面是各区间：\n",
      "总遮挡区间：\n",
      "    29.27s ~ 33.68s\n",
      "总遮挡时间: 4.41s\n"
     ]
    },
    {
     "data": {
      "application/vnd.jupyter.widget-view+json": {
       "model_id": "58d912b16d2a4540a5615d932d2b1345",
       "version_major": 2,
       "version_minor": 0
      },
      "text/plain": [
       "无人机4退火优化进度:   0%|          | 0/6000 [00:00<?, ?it/s]"
      ]
     },
     "metadata": {},
     "output_type": "display_data"
    },
    {
     "name": "stdout",
     "output_type": "stream",
     "text": [
      "无人机4最优参数: [137.82597691   4.05832668   2.86630832  14.07273215  29.39572167\n",
      "  12.06809365  10.64461117  11.83191772]\n",
      "每个烟雾球的遮挡时间及区间：\n",
      "第1个烟雾球遮挡时间: 4.75s下面是各区间：    区间: 14.95s ~ 19.70s\n",
      "第2个烟雾球遮挡时间: 0.00s下面是各区间：第3个烟雾球遮挡时间: 0.00s下面是各区间：\n",
      "总遮挡区间：\n",
      "    14.95s ~ 19.70s\n",
      "总遮挡时间: 4.75s\n"
     ]
    },
    {
     "data": {
      "application/vnd.jupyter.widget-view+json": {
       "model_id": "b24ba31f64474c3999232c3c77119c14",
       "version_major": 2,
       "version_minor": 0
      },
      "text/plain": [
       "无人机5退火优化进度:   0%|          | 0/6000 [00:00<?, ?it/s]"
      ]
     },
     "metadata": {},
     "output_type": "display_data"
    },
    {
     "name": "stdout",
     "output_type": "stream",
     "text": [
      "无人机5最优参数: [99.986197    2.021499   16.35107039 18.80047616 22.87107773 16.50207341\n",
      "  1.48577163 17.3595593 ]\n",
      "每个烟雾球的遮挡时间及区间：\n",
      "第1个烟雾球遮挡时间: 0.00s下面是各区间：第2个烟雾球遮挡时间: 0.00s下面是各区间：第3个烟雾球遮挡时间: 0.00s下面是各区间：\n",
      "总遮挡区间：\n",
      "总遮挡时间: 0.00s\n"
     ]
    }
   ],
   "source": [
    "from calc_cover_time import *\n",
    "from scipy.optimize import dual_annealing\n",
    "from tqdm.notebook import tqdm\n",
    "\n",
    "# 假设 drone_pos 是你的无人机位置字典，M1 是导弹初始点\n",
    "missile_trajs = [get_missile_traj(missile_starts[i], fake_target, v_M1, t_list) for i in range(3)]\n",
    "\n",
    "\n",
    "for idx in range(5):\n",
    "    f_pos = drone_pos[idx]\n",
    "    cover_time_hist = []\n",
    "\n",
    "    def sa_objective(x):\n",
    "        try:\n",
    "            speed = x[0]\n",
    "            direction_angle = x[1]\n",
    "            throw_times = x[2:5]\n",
    "            burst_delays = x[5:8]\n",
    "            smoke_centers = get_smoke_center_multi(f_pos, direction_angle, speed, throw_times, burst_delays, t_list)\n",
    "            cover_time = get_missile_cover_time_multi(smoke_centers, missile_trajs[1], true_target, smoke_R, t_list)\n",
    "            cover_time_hist.append(cover_time)\n",
    "            return -cover_time\n",
    "        except Exception:\n",
    "            return 1e6\n",
    "\n",
    "    bounds = [\n",
    "        (70, 140),           # speed\n",
    "        ((0, 2*np.pi)),        # angle\n",
    "        (0, 20), (1, 30), (2, 50),   # throw_times\n",
    "        (0, 20), (1, 20), (2, 20),   # burst_delays\n",
    "    ]\n",
    "    max_iter = 6000\n",
    "    pbar = tqdm(total=max_iter, desc=f\"无人机{idx+1}退火优化进度\")\n",
    "\n",
    "    def progress_callback(x, f, context):\n",
    "        pbar.update(1)\n",
    "\n",
    "    result = dual_annealing(sa_objective,\n",
    "                            bounds, \n",
    "                            maxiter=max_iter, \n",
    "                            seed=42,\n",
    "                            callback=progress_callback,\n",
    "                            initial_temp=20000,\n",
    "                           )\n",
    "    print(f\"无人机{idx+1}最优参数:\", result.x)\n",
    "    smoke_centers = get_smoke_center_multi(f_pos, result.x[1], result.x[0], result.x[2:5], result.x[5:8], t_list)\n",
    "    cover_time = get_missile_cover_time_multi(smoke_centers, missile_trajs[1], true_target, smoke_R, t_list, debug=True)\n",
    "    pbar.close()"
   ]
  },
  {
   "cell_type": "code",
   "execution_count": 4,
   "id": "67867fea",
   "metadata": {},
   "outputs": [
    {
     "data": {
      "application/vnd.jupyter.widget-view+json": {
       "model_id": "7cac6743ba3a400a9d46a40d0c9c4b23",
       "version_major": 2,
       "version_minor": 0
      },
      "text/plain": [
       "无人机1退火优化进度:   0%|          | 0/6000 [00:00<?, ?it/s]"
      ]
     },
     "metadata": {},
     "output_type": "display_data"
    },
    {
     "name": "stdout",
     "output_type": "stream",
     "text": [
      "无人机1最优参数: [99.986197    2.021499   16.35107039 18.80047616 22.87107773 16.50207341\n",
      "  1.48577163 17.3595593 ]\n",
      "每个烟雾球的遮挡时间及区间：\n",
      "第1个烟雾球遮挡时间: 0.00s下面是各区间：第2个烟雾球遮挡时间: 0.00s下面是各区间：第3个烟雾球遮挡时间: 0.00s下面是各区间：\n",
      "总遮挡区间：\n",
      "总遮挡时间: 0.00s\n"
     ]
    },
    {
     "data": {
      "application/vnd.jupyter.widget-view+json": {
       "model_id": "09ccc8589d3143c08fe30a46a41cf236",
       "version_major": 2,
       "version_minor": 0
      },
      "text/plain": [
       "无人机2退火优化进度:   0%|          | 0/6000 [00:00<?, ?it/s]"
      ]
     },
     "metadata": {},
     "output_type": "display_data"
    },
    {
     "name": "stdout",
     "output_type": "stream",
     "text": [
      "无人机2最优参数: [121.236549     4.50001855   9.07599168  12.87371196  39.60772554\n",
      "   5.83208772   4.91093736  18.54474222]\n",
      "每个烟雾球的遮挡时间及区间：\n",
      "第1个烟雾球遮挡时间: 3.98s下面是各区间：    区间: 14.92s ~ 18.89s\n",
      "第2个烟雾球遮挡时间: 0.00s下面是各区间：第3个烟雾球遮挡时间: 0.00s下面是各区间：\n",
      "总遮挡区间：\n",
      "    14.92s ~ 18.89s\n",
      "总遮挡时间: 3.98s\n"
     ]
    },
    {
     "data": {
      "application/vnd.jupyter.widget-view+json": {
       "model_id": "865a70638e164d7e99c169907ab8b3d7",
       "version_major": 2,
       "version_minor": 0
      },
      "text/plain": [
       "无人机3退火优化进度:   0%|          | 0/6000 [00:00<?, ?it/s]"
      ]
     },
     "metadata": {},
     "output_type": "display_data"
    },
    {
     "name": "stdout",
     "output_type": "stream",
     "text": [
      "无人机3最优参数: [137.91483222   2.10591455  12.27188406  18.02757665  37.31181133\n",
      "   1.34304993   7.02258893  19.48334713]\n",
      "每个烟雾球的遮挡时间及区间：\n",
      "第1个烟雾球遮挡时间: 0.00s下面是各区间：第2个烟雾球遮挡时间: 5.07s下面是各区间：    区间: 25.06s ~ 30.13s\n",
      "第3个烟雾球遮挡时间: 0.00s下面是各区间：\n",
      "总遮挡区间：\n",
      "    25.06s ~ 30.13s\n",
      "总遮挡时间: 5.07s\n"
     ]
    },
    {
     "data": {
      "application/vnd.jupyter.widget-view+json": {
       "model_id": "087a9fae634b40c0be009f11547b30c8",
       "version_major": 2,
       "version_minor": 0
      },
      "text/plain": [
       "无人机4退火优化进度:   0%|          | 0/6000 [00:00<?, ?it/s]"
      ]
     },
     "metadata": {},
     "output_type": "display_data"
    },
    {
     "ename": "KeyboardInterrupt",
     "evalue": "",
     "output_type": "error",
     "traceback": [
      "\u001b[1;31m---------------------------------------------------------------------------\u001b[0m",
      "\u001b[1;31mKeyboardInterrupt\u001b[0m                         Traceback (most recent call last)",
      "Cell \u001b[1;32mIn[4], line 38\u001b[0m\n\u001b[0;32m     35\u001b[0m \u001b[38;5;28;01mdef\u001b[39;00m\u001b[38;5;250m \u001b[39m\u001b[38;5;21mprogress_callback\u001b[39m(x, f, context):\n\u001b[0;32m     36\u001b[0m     pbar\u001b[38;5;241m.\u001b[39mupdate(\u001b[38;5;241m1\u001b[39m)\n\u001b[1;32m---> 38\u001b[0m result \u001b[38;5;241m=\u001b[39m \u001b[43mdual_annealing\u001b[49m\u001b[43m(\u001b[49m\u001b[43msa_objective\u001b[49m\u001b[43m,\u001b[49m\n\u001b[0;32m     39\u001b[0m \u001b[43m                        \u001b[49m\u001b[43mbounds\u001b[49m\u001b[43m,\u001b[49m\u001b[43m \u001b[49m\n\u001b[0;32m     40\u001b[0m \u001b[43m                        \u001b[49m\u001b[43mmaxiter\u001b[49m\u001b[38;5;241;43m=\u001b[39;49m\u001b[43mmax_iter\u001b[49m\u001b[43m,\u001b[49m\u001b[43m \u001b[49m\n\u001b[0;32m     41\u001b[0m \u001b[43m                        \u001b[49m\u001b[43mseed\u001b[49m\u001b[38;5;241;43m=\u001b[39;49m\u001b[38;5;241;43m42\u001b[39;49m\u001b[43m,\u001b[49m\n\u001b[0;32m     42\u001b[0m \u001b[43m                        \u001b[49m\u001b[43mcallback\u001b[49m\u001b[38;5;241;43m=\u001b[39;49m\u001b[43mprogress_callback\u001b[49m\u001b[43m,\u001b[49m\n\u001b[0;32m     43\u001b[0m \u001b[43m                        \u001b[49m\u001b[43minitial_temp\u001b[49m\u001b[38;5;241;43m=\u001b[39;49m\u001b[38;5;241;43m20000\u001b[39;49m\u001b[43m,\u001b[49m\n\u001b[0;32m     44\u001b[0m \u001b[43m                       \u001b[49m\u001b[43m)\u001b[49m\n\u001b[0;32m     45\u001b[0m \u001b[38;5;28mprint\u001b[39m(\u001b[38;5;124mf\u001b[39m\u001b[38;5;124m\"\u001b[39m\u001b[38;5;124m无人机\u001b[39m\u001b[38;5;132;01m{\u001b[39;00midx\u001b[38;5;241m+\u001b[39m\u001b[38;5;241m1\u001b[39m\u001b[38;5;132;01m}\u001b[39;00m\u001b[38;5;124m最优参数:\u001b[39m\u001b[38;5;124m\"\u001b[39m, result\u001b[38;5;241m.\u001b[39mx)\n\u001b[0;32m     46\u001b[0m smoke_centers \u001b[38;5;241m=\u001b[39m get_smoke_center_multi(f_pos, result\u001b[38;5;241m.\u001b[39mx[\u001b[38;5;241m1\u001b[39m], result\u001b[38;5;241m.\u001b[39mx[\u001b[38;5;241m0\u001b[39m], result\u001b[38;5;241m.\u001b[39mx[\u001b[38;5;241m2\u001b[39m:\u001b[38;5;241m5\u001b[39m], result\u001b[38;5;241m.\u001b[39mx[\u001b[38;5;241m5\u001b[39m:\u001b[38;5;241m8\u001b[39m], t_list)\n",
      "File \u001b[1;32mf:\\anaconda3\\Lib\\site-packages\\scipy\\_lib\\_util.py:440\u001b[0m, in \u001b[0;36m_transition_to_rng.<locals>.decorator.<locals>.wrapper\u001b[1;34m(*args, **kwargs)\u001b[0m\n\u001b[0;32m    433\u001b[0m     message \u001b[38;5;241m=\u001b[39m (\n\u001b[0;32m    434\u001b[0m         \u001b[38;5;124m\"\u001b[39m\u001b[38;5;124mThe NumPy global RNG was seeded by calling \u001b[39m\u001b[38;5;124m\"\u001b[39m\n\u001b[0;32m    435\u001b[0m         \u001b[38;5;124mf\u001b[39m\u001b[38;5;124m\"\u001b[39m\u001b[38;5;124m`np.random.seed`. Beginning in \u001b[39m\u001b[38;5;132;01m{\u001b[39;00mend_version\u001b[38;5;132;01m}\u001b[39;00m\u001b[38;5;124m, this \u001b[39m\u001b[38;5;124m\"\u001b[39m\n\u001b[0;32m    436\u001b[0m         \u001b[38;5;124m\"\u001b[39m\u001b[38;5;124mfunction will no longer use the global RNG.\u001b[39m\u001b[38;5;124m\"\u001b[39m\n\u001b[0;32m    437\u001b[0m     ) \u001b[38;5;241m+\u001b[39m cmn_msg\n\u001b[0;32m    438\u001b[0m     warnings\u001b[38;5;241m.\u001b[39mwarn(message, \u001b[38;5;167;01mFutureWarning\u001b[39;00m, stacklevel\u001b[38;5;241m=\u001b[39m\u001b[38;5;241m2\u001b[39m)\n\u001b[1;32m--> 440\u001b[0m \u001b[38;5;28;01mreturn\u001b[39;00m \u001b[43mfun\u001b[49m\u001b[43m(\u001b[49m\u001b[38;5;241;43m*\u001b[39;49m\u001b[43margs\u001b[49m\u001b[43m,\u001b[49m\u001b[43m \u001b[49m\u001b[38;5;241;43m*\u001b[39;49m\u001b[38;5;241;43m*\u001b[39;49m\u001b[43mkwargs\u001b[49m\u001b[43m)\u001b[49m\n",
      "File \u001b[1;32mf:\\anaconda3\\Lib\\site-packages\\scipy\\optimize\\_dual_annealing.py:708\u001b[0m, in \u001b[0;36mdual_annealing\u001b[1;34m(func, bounds, args, maxiter, minimizer_kwargs, initial_temp, restart_temp_ratio, visit, accept, maxfun, rng, no_local_search, callback, x0)\u001b[0m\n\u001b[0;32m    706\u001b[0m     \u001b[38;5;28;01mbreak\u001b[39;00m\n\u001b[0;32m    707\u001b[0m \u001b[38;5;66;03m# starting strategy chain\u001b[39;00m\n\u001b[1;32m--> 708\u001b[0m val \u001b[38;5;241m=\u001b[39m \u001b[43mstrategy_chain\u001b[49m\u001b[38;5;241;43m.\u001b[39;49m\u001b[43mrun\u001b[49m\u001b[43m(\u001b[49m\u001b[43mi\u001b[49m\u001b[43m,\u001b[49m\u001b[43m \u001b[49m\u001b[43mtemperature\u001b[49m\u001b[43m)\u001b[49m\n\u001b[0;32m    709\u001b[0m \u001b[38;5;28;01mif\u001b[39;00m val \u001b[38;5;129;01mis\u001b[39;00m \u001b[38;5;129;01mnot\u001b[39;00m \u001b[38;5;28;01mNone\u001b[39;00m:\n\u001b[0;32m    710\u001b[0m     message\u001b[38;5;241m.\u001b[39mappend(val)\n",
      "File \u001b[1;32mf:\\anaconda3\\Lib\\site-packages\\scipy\\optimize\\_dual_annealing.py:298\u001b[0m, in \u001b[0;36mStrategyChain.run\u001b[1;34m(self, step, temperature)\u001b[0m\n\u001b[0;32m    295\u001b[0m x_visit \u001b[38;5;241m=\u001b[39m \u001b[38;5;28mself\u001b[39m\u001b[38;5;241m.\u001b[39mvisit_dist\u001b[38;5;241m.\u001b[39mvisiting(\n\u001b[0;32m    296\u001b[0m     \u001b[38;5;28mself\u001b[39m\u001b[38;5;241m.\u001b[39menergy_state\u001b[38;5;241m.\u001b[39mcurrent_location, j, temperature)\n\u001b[0;32m    297\u001b[0m \u001b[38;5;66;03m# Calling the objective function\u001b[39;00m\n\u001b[1;32m--> 298\u001b[0m e \u001b[38;5;241m=\u001b[39m \u001b[38;5;28;43mself\u001b[39;49m\u001b[38;5;241;43m.\u001b[39;49m\u001b[43mfunc_wrapper\u001b[49m\u001b[38;5;241;43m.\u001b[39;49m\u001b[43mfun\u001b[49m\u001b[43m(\u001b[49m\u001b[43mx_visit\u001b[49m\u001b[43m)\u001b[49m\n\u001b[0;32m    299\u001b[0m \u001b[38;5;28;01mif\u001b[39;00m e \u001b[38;5;241m<\u001b[39m \u001b[38;5;28mself\u001b[39m\u001b[38;5;241m.\u001b[39menergy_state\u001b[38;5;241m.\u001b[39mcurrent_energy:\n\u001b[0;32m    300\u001b[0m     \u001b[38;5;66;03m# We have got a better energy value\u001b[39;00m\n\u001b[0;32m    301\u001b[0m     \u001b[38;5;28mself\u001b[39m\u001b[38;5;241m.\u001b[39menergy_state\u001b[38;5;241m.\u001b[39mupdate_current(e, x_visit)\n",
      "File \u001b[1;32mf:\\anaconda3\\Lib\\site-packages\\scipy\\optimize\\_dual_annealing.py:381\u001b[0m, in \u001b[0;36mObjectiveFunWrapper.fun\u001b[1;34m(self, x)\u001b[0m\n\u001b[0;32m    379\u001b[0m \u001b[38;5;28;01mdef\u001b[39;00m\u001b[38;5;250m \u001b[39m\u001b[38;5;21mfun\u001b[39m(\u001b[38;5;28mself\u001b[39m, x):\n\u001b[0;32m    380\u001b[0m     \u001b[38;5;28mself\u001b[39m\u001b[38;5;241m.\u001b[39mnfev \u001b[38;5;241m+\u001b[39m\u001b[38;5;241m=\u001b[39m \u001b[38;5;241m1\u001b[39m\n\u001b[1;32m--> 381\u001b[0m     \u001b[38;5;28;01mreturn\u001b[39;00m \u001b[38;5;28;43mself\u001b[39;49m\u001b[38;5;241;43m.\u001b[39;49m\u001b[43mfunc\u001b[49m\u001b[43m(\u001b[49m\u001b[43mx\u001b[49m\u001b[43m,\u001b[49m\u001b[43m \u001b[49m\u001b[38;5;241;43m*\u001b[39;49m\u001b[38;5;28;43mself\u001b[39;49m\u001b[38;5;241;43m.\u001b[39;49m\u001b[43margs\u001b[49m\u001b[43m)\u001b[49m\n",
      "Cell \u001b[1;32mIn[4], line 19\u001b[0m, in \u001b[0;36msa_objective\u001b[1;34m(x)\u001b[0m\n\u001b[0;32m     17\u001b[0m throw_times \u001b[38;5;241m=\u001b[39m x[\u001b[38;5;241m2\u001b[39m:\u001b[38;5;241m5\u001b[39m]\n\u001b[0;32m     18\u001b[0m burst_delays \u001b[38;5;241m=\u001b[39m x[\u001b[38;5;241m5\u001b[39m:\u001b[38;5;241m8\u001b[39m]\n\u001b[1;32m---> 19\u001b[0m smoke_centers \u001b[38;5;241m=\u001b[39m \u001b[43mget_smoke_center_multi\u001b[49m\u001b[43m(\u001b[49m\u001b[43mf_pos\u001b[49m\u001b[43m,\u001b[49m\u001b[43m \u001b[49m\u001b[43mdirection_angle\u001b[49m\u001b[43m,\u001b[49m\u001b[43m \u001b[49m\u001b[43mspeed\u001b[49m\u001b[43m,\u001b[49m\u001b[43m \u001b[49m\u001b[43mthrow_times\u001b[49m\u001b[43m,\u001b[49m\u001b[43m \u001b[49m\u001b[43mburst_delays\u001b[49m\u001b[43m,\u001b[49m\u001b[43m \u001b[49m\u001b[43mt_list\u001b[49m\u001b[43m)\u001b[49m\n\u001b[0;32m     20\u001b[0m cover_time \u001b[38;5;241m=\u001b[39m get_missile_cover_time_multi(smoke_centers, missile_trajs[\u001b[38;5;241m2\u001b[39m], true_target, smoke_R, t_list)\n\u001b[0;32m     21\u001b[0m cover_time_hist\u001b[38;5;241m.\u001b[39mappend(cover_time)\n",
      "File \u001b[1;32me:\\Desktop\\NewFile\\CUMC2025\\calc_cover_time.py:94\u001b[0m, in \u001b[0;36mget_smoke_center_multi\u001b[1;34m(position, direction_angle, speed, throw_times, burst_delays, t_list)\u001b[0m\n\u001b[0;32m     92\u001b[0m     t_valid \u001b[38;5;241m=\u001b[39m t_list[valid_idx] \u001b[38;5;241m-\u001b[39m t_burst\n\u001b[0;32m     93\u001b[0m     smoke_centers[:, valid_idx, i] \u001b[38;5;241m=\u001b[39m smoke_start\u001b[38;5;241m.\u001b[39mreshape(\u001b[38;5;241m3\u001b[39m, \u001b[38;5;241m1\u001b[39m)\n\u001b[1;32m---> 94\u001b[0m     smoke_centers[\u001b[38;5;241m2\u001b[39m, valid_idx, i] \u001b[38;5;241m+\u001b[39m\u001b[38;5;241m=\u001b[39m v_smoke \u001b[38;5;241m*\u001b[39m t_valid\n\u001b[0;32m     96\u001b[0m \u001b[38;5;28;01mreturn\u001b[39;00m smoke_centers\n",
      "\u001b[1;31mKeyboardInterrupt\u001b[0m: "
     ]
    }
   ],
   "source": [
    "from calc_cover_time import *\n",
    "from scipy.optimize import dual_annealing\n",
    "from tqdm.notebook import tqdm\n",
    "\n",
    "# 假设 drone_pos 是你的无人机位置字典，M1 是导弹初始点\n",
    "missile_trajs = [get_missile_traj(missile_starts[i], fake_target, v_M1, t_list) for i in range(3)]\n",
    "\n",
    "\n",
    "for idx in range(5):\n",
    "    f_pos = drone_pos[idx]\n",
    "    cover_time_hist = []\n",
    "\n",
    "    def sa_objective(x):\n",
    "        try:\n",
    "            speed = x[0]\n",
    "            direction_angle = x[1]\n",
    "            throw_times = x[2:5]\n",
    "            burst_delays = x[5:8]\n",
    "            smoke_centers = get_smoke_center_multi(f_pos, direction_angle, speed, throw_times, burst_delays, t_list)\n",
    "            cover_time = get_missile_cover_time_multi(smoke_centers, missile_trajs[2], true_target, smoke_R, t_list)\n",
    "            cover_time_hist.append(cover_time)\n",
    "            return -cover_time\n",
    "        except Exception:\n",
    "            return 1e6\n",
    "\n",
    "    bounds = [\n",
    "        (70, 140),           # speed\n",
    "        ((0, 2*np.pi)),        # angle\n",
    "        (0, 20), (1, 30), (2, 50),   # throw_times\n",
    "        (0, 20), (1, 20), (2, 20),   # burst_delays\n",
    "    ]\n",
    "    max_iter = 6000\n",
    "    pbar = tqdm(total=max_iter, desc=f\"无人机{idx+1}退火优化进度\")\n",
    "\n",
    "    def progress_callback(x, f, context):\n",
    "        pbar.update(1)\n",
    "\n",
    "    result = dual_annealing(sa_objective,\n",
    "                            bounds, \n",
    "                            maxiter=max_iter, \n",
    "                            seed=42,\n",
    "                            callback=progress_callback,\n",
    "                            initial_temp=20000,\n",
    "                           )\n",
    "    print(f\"无人机{idx+1}最优参数:\", result.x)\n",
    "    smoke_centers = get_smoke_center_multi(f_pos, result.x[1], result.x[0], result.x[2:5], result.x[5:8], t_list)\n",
    "    cover_time = get_missile_cover_time_multi(smoke_centers, missile_trajs[2], true_target, smoke_R, t_list, debug=True)\n",
    "    pbar.close()"
   ]
  },
  {
   "cell_type": "code",
   "execution_count": null,
   "id": "3b1504dc",
   "metadata": {},
   "outputs": [
    {
     "data": {
      "application/vnd.jupyter.widget-view+json": {
       "model_id": "b0a3885e357745db8f9bd36c529642f1",
       "version_major": 2,
       "version_minor": 0
      },
      "text/plain": [
       "退火优化进度:   0%|          | 0/4000 [00:00<?, ?it/s]"
      ]
     },
     "metadata": {},
     "output_type": "display_data"
    }
   ],
   "source": [
    "from calc_cover_time import *\n",
    "from scipy.optimize import dual_annealing\n",
    "\n",
    "cover_time_hist = []\n",
    "\n",
    "missile_trajs = [get_missile_traj(missile_starts[i], fake_target, v_M1, t_list) for i in range(3)]\n",
    "# 优化目标函数\n",
    "def sa_objective_multi(x):\n",
    "    try:\n",
    "        speed = x[0]\n",
    "        direction_angle = x[1]\n",
    "        throw_times = x[2:5]\n",
    "        burst_delays = x[5:8]\n",
    "        smoke_centers = get_smoke_center_multi(drone_pos[0], direction_angle, speed, throw_times, burst_delays, t_list)\n",
    "        cover_time = get_missile_cover_time_multi_bomb_and_missile(smoke_centers, missile_trajs, true_target, smoke_R, t_list)\n",
    "        cover_time_hist.append(cover_time)\n",
    "        return -cover_time\n",
    "    except AssertionError:\n",
    "        return 1e6  # 参数非法时返回极小值\n",
    "\n",
    "# 参数边界：[速度, 角度, 投弹1, 投弹2, 投弹3, 爆炸1, 爆炸2, 爆炸3]\n",
    "bounds = [\n",
    "    (70, 140),           # speed\n",
    "    (np.pi/2, np.pi *3 / 2),        # angle\n",
    "    (0, 20), (1, 20), (2, 30),   # throw_times\n",
    "    (0, 20), (1, 20), (2, 20),   # burst_delays\n",
    "]\n",
    "\n",
    "from tqdm.notebook import tqdm\n",
    "max_iter = 4000\n",
    "pbar = tqdm(total=max_iter, desc=\"退火优化进度\")\n",
    "\n",
    "def progress_callback(x, f, context):\n",
    "    pbar.update(1)\n",
    "\n",
    "result = dual_annealing(\n",
    "    sa_objective_multi,\n",
    "    bounds,\n",
    "    maxiter=max_iter,\n",
    "    seed=42,\n",
    "    callback=progress_callback,\n",
    "    initial_temp=10000,\n",
    ")\n",
    "\n",
    "print(\"最优参数:\", result.x)\n",
    "print(\"最大遮挡总时间:\", -result.fun)\n",
    "plt.plot(cover_time_hist)\n",
    "pbar.close()\n"
   ]
  },
  {
   "cell_type": "code",
   "execution_count": 6,
   "id": "5f1bf85f",
   "metadata": {},
   "outputs": [
    {
     "ename": "AssertionError",
     "evalue": "投弹时间需递增且间隔>=1",
     "output_type": "error",
     "traceback": [
      "\u001b[1;31m---------------------------------------------------------------------------\u001b[0m",
      "\u001b[1;31mAssertionError\u001b[0m                            Traceback (most recent call last)",
      "Cell \u001b[1;32mIn[6], line 2\u001b[0m\n\u001b[0;32m      1\u001b[0m \u001b[38;5;66;03m# 调试get_missile_cover_time_multi_bomb_and_missile\u001b[39;00m\n\u001b[1;32m----> 2\u001b[0m smoke_centers01 \u001b[38;5;241m=\u001b[39m \u001b[43mget_smoke_center_multi\u001b[49m\u001b[43m(\u001b[49m\u001b[43mdrone_pos\u001b[49m\u001b[43m[\u001b[49m\u001b[38;5;241;43m0\u001b[39;49m\u001b[43m]\u001b[49m\u001b[43m,\u001b[49m\u001b[43m \u001b[49m\u001b[43mresult\u001b[49m\u001b[38;5;241;43m.\u001b[39;49m\u001b[43mx\u001b[49m\u001b[43m[\u001b[49m\u001b[38;5;241;43m1\u001b[39;49m\u001b[43m]\u001b[49m\u001b[43m,\u001b[49m\u001b[43m \u001b[49m\u001b[43mresult\u001b[49m\u001b[38;5;241;43m.\u001b[39;49m\u001b[43mx\u001b[49m\u001b[43m[\u001b[49m\u001b[38;5;241;43m0\u001b[39;49m\u001b[43m]\u001b[49m\u001b[43m,\u001b[49m\u001b[43m \u001b[49m\u001b[43mresult\u001b[49m\u001b[38;5;241;43m.\u001b[39;49m\u001b[43mx\u001b[49m\u001b[43m[\u001b[49m\u001b[38;5;241;43m2\u001b[39;49m\u001b[43m:\u001b[49m\u001b[38;5;241;43m5\u001b[39;49m\u001b[43m]\u001b[49m\u001b[43m,\u001b[49m\u001b[43m \u001b[49m\u001b[43mresult\u001b[49m\u001b[38;5;241;43m.\u001b[39;49m\u001b[43mx\u001b[49m\u001b[43m[\u001b[49m\u001b[38;5;241;43m5\u001b[39;49m\u001b[43m:\u001b[49m\u001b[38;5;241;43m8\u001b[39;49m\u001b[43m]\u001b[49m\u001b[43m,\u001b[49m\u001b[43m \u001b[49m\u001b[43mt_list\u001b[49m\u001b[43m)\u001b[49m\n\u001b[0;32m      3\u001b[0m get_missile_cover_time_multi_bomb_and_missile(smoke_centers01, missile_trajs, true_target, smoke_R, t_list, debug\u001b[38;5;241m=\u001b[39m\u001b[38;5;28;01mTrue\u001b[39;00m)\n",
      "File \u001b[1;32me:\\Desktop\\NewFile\\CUMC2025\\calc_cover_time.py:83\u001b[0m, in \u001b[0;36mget_smoke_center_multi\u001b[1;34m(position, direction_angle, speed, throw_times, burst_delays, t_list)\u001b[0m\n\u001b[0;32m     81\u001b[0m burst_delays \u001b[38;5;241m=\u001b[39m np\u001b[38;5;241m.\u001b[39marray(burst_delays)\n\u001b[0;32m     82\u001b[0m \u001b[38;5;28;01massert\u001b[39;00m \u001b[38;5;28mlen\u001b[39m(throw_times) \u001b[38;5;241m==\u001b[39m \u001b[38;5;241m3\u001b[39m \u001b[38;5;129;01mand\u001b[39;00m \u001b[38;5;28mlen\u001b[39m(burst_delays) \u001b[38;5;241m==\u001b[39m \u001b[38;5;241m3\u001b[39m\n\u001b[1;32m---> 83\u001b[0m \u001b[38;5;28;01massert\u001b[39;00m np\u001b[38;5;241m.\u001b[39mall(np\u001b[38;5;241m.\u001b[39mdiff(throw_times) \u001b[38;5;241m>\u001b[39m\u001b[38;5;241m=\u001b[39m \u001b[38;5;241m1\u001b[39m), \u001b[38;5;124m\"\u001b[39m\u001b[38;5;124m投弹时间需递增且间隔>=1\u001b[39m\u001b[38;5;124m\"\u001b[39m\n\u001b[0;32m     85\u001b[0m direction \u001b[38;5;241m=\u001b[39m np\u001b[38;5;241m.\u001b[39marray([np\u001b[38;5;241m.\u001b[39mcos(direction_angle), np\u001b[38;5;241m.\u001b[39msin(direction_angle), \u001b[38;5;241m0.0\u001b[39m])\n\u001b[0;32m     86\u001b[0m smoke_centers \u001b[38;5;241m=\u001b[39m np\u001b[38;5;241m.\u001b[39mones((\u001b[38;5;241m3\u001b[39m, \u001b[38;5;28mlen\u001b[39m(t_list), \u001b[38;5;241m3\u001b[39m)) \u001b[38;5;241m*\u001b[39m \u001b[38;5;241m1e6\u001b[39m  \u001b[38;5;66;03m# (x,y,z), 时间, 弹序号\u001b[39;00m\n",
      "\u001b[1;31mAssertionError\u001b[0m: 投弹时间需递增且间隔>=1"
     ]
    }
   ],
   "source": [
    "# 调试get_missile_cover_time_multi_bomb_and_missile\n",
    "smoke_centers01 = get_smoke_center_multi(drone_pos[0], result.x[1], result.x[0], result.x[2:5], result.x[5:8], t_list)\n",
    "get_missile_cover_time_multi_bomb_and_missile(smoke_centers01, missile_trajs, true_target, smoke_R, t_list, debug=True)"
   ]
  },
  {
   "cell_type": "code",
   "execution_count": null,
   "id": "8d2fd312",
   "metadata": {},
   "outputs": [],
   "source": []
  }
 ],
 "metadata": {
  "kernelspec": {
   "display_name": "base",
   "language": "python",
   "name": "python3"
  },
  "language_info": {
   "codemirror_mode": {
    "name": "ipython",
    "version": 3
   },
   "file_extension": ".py",
   "mimetype": "text/x-python",
   "name": "python",
   "nbconvert_exporter": "python",
   "pygments_lexer": "ipython3",
   "version": "3.11.7"
  }
 },
 "nbformat": 4,
 "nbformat_minor": 5
}
